{
 "cells": [
  {
   "cell_type": "code",
   "execution_count": 6,
   "id": "d209eaab",
   "metadata": {},
   "outputs": [
    {
     "name": "stdout",
     "output_type": "stream",
     "text": [
      "Enter a number: 39\n",
      "Fail\n",
      "Done with if statement\n"
     ]
    }
   ],
   "source": [
    "score_num = 40\n",
    "score = int(input('Enter a number: '))\n",
    "if score == score_num:\n",
    "    print('Pass')\n",
    "elif score > score_num:\n",
    "    print('Pass')\n",
    "else:\n",
    "    print('Fail')\n",
    "\n",
    "print('Done with if statement')"
   ]
  },
  {
   "cell_type": "code",
   "execution_count": 11,
   "id": "e63bde27",
   "metadata": {},
   "outputs": [
    {
     "name": "stdout",
     "output_type": "stream",
     "text": [
      "Evenlists: [2, 4, 6, 8, 10, 12, 14, 16, 18]\n",
      "Oddlists: [1, 3, 5, 7, 9, 11, 13, 15, 17, 19]\n"
     ]
    }
   ],
   "source": [
    "evenlist = []\n",
    "oddlist = []\n",
    "for k in range(1, 20):\n",
    "    if k % 2 == 0:\n",
    "        evenlist.append(k)\n",
    "    else:\n",
    "        oddlist.append(k)\n",
    "print(\"Evenlists:\", evenlist)\n",
    "print(\"Oddlists:\", oddlist)\n",
    "    "
   ]
  },
  {
   "cell_type": "code",
   "execution_count": null,
   "id": "33e6629c",
   "metadata": {},
   "outputs": [],
   "source": []
  },
  {
   "cell_type": "code",
   "execution_count": null,
   "id": "9d8368ad",
   "metadata": {},
   "outputs": [],
   "source": []
  }
 ],
 "metadata": {
  "kernelspec": {
   "display_name": "Python 3 (ipykernel)",
   "language": "python",
   "name": "python3"
  },
  "language_info": {
   "codemirror_mode": {
    "name": "ipython",
    "version": 3
   },
   "file_extension": ".py",
   "mimetype": "text/x-python",
   "name": "python",
   "nbconvert_exporter": "python",
   "pygments_lexer": "ipython3",
   "version": "3.9.12"
  }
 },
 "nbformat": 4,
 "nbformat_minor": 5
}
